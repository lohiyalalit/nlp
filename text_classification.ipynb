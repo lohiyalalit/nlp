{
 "cells": [
  {
   "cell_type": "code",
   "execution_count": null,
   "id": "9c07be7a",
   "metadata": {},
   "outputs": [],
   "source": [
    "import nltk\n",
    "import numpy as np\n",
    "import re\n",
    "from sklearn.datasets import load_files\n",
    "from nltk.corpus import stopwords\n",
    "from nltk.stem import WordNetLemmatizer\n",
    "import pandas as pd\n",
    "import warnings\n",
    "warnings.simplefilter(\"ignore\")"
   ]
  },
  {
   "cell_type": "code",
   "execution_count": null,
   "id": "d0e0e975",
   "metadata": {},
   "outputs": [],
   "source": [
    "#dataset link : https://www.cs.cornell.edu/people/pabo/movie-review-data/\n",
    "dataset = load_files(\"txt_sentoken/\")"
   ]
  },
  {
   "cell_type": "code",
   "execution_count": null,
   "id": "060c37a1",
   "metadata": {},
   "outputs": [],
   "source": [
    "X,y = dataset.data, dataset.target\n",
    "x_df = pd.DataFrame(X,columns=[\"text\"])\n",
    "Y = pd.DataFrame(y,columns=['class'])"
   ]
  },
  {
   "cell_type": "code",
   "execution_count": null,
   "id": "e5fccbbf",
   "metadata": {},
   "outputs": [],
   "source": [
    "def clean(row):\n",
    "    review = re.sub(r'\\n', ' ',str(row))\n",
    "    #review = re.sub('\\n+', '',str(row))\n",
    "    review = re.sub(r'\\W', ' ', review)\n",
    "    review = review.lower()\n",
    "    review = re.sub(r'^br$', ' ', review)\n",
    "    review = re.sub(r'\\s+br\\s+',' ',review)\n",
    "    review = re.sub(r'\\s+[a-z]\\s+', ' ',review)\n",
    "    review = re.sub(r'^b\\s+', '', review)\n",
    "    review = re.sub(r'\\s+', ' ', review)\n",
    "    \n",
    "    return review"
   ]
  },
  {
   "cell_type": "code",
   "execution_count": null,
   "id": "d0ee30d6",
   "metadata": {},
   "outputs": [],
   "source": [
    "x_df[\"clean\"] = x_df[\"text\"].apply(clean)"
   ]
  },
  {
   "cell_type": "code",
   "execution_count": null,
   "id": "8e16427e",
   "metadata": {},
   "outputs": [],
   "source": [
    "from sklearn.model_selection import train_test_split\n",
    "x_train,x_test,y_train,y_test = train_test_split(pd.DataFrame(x_df['clean']),Y,test_size=0.25,shuffle=True)"
   ]
  },
  {
   "cell_type": "code",
   "execution_count": null,
   "id": "19912f76",
   "metadata": {},
   "outputs": [],
   "source": [
    "from sklearn.feature_extraction.text import CountVectorizer,TfidfVectorizer\n",
    "cv = CountVectorizer(max_features=5000,stop_words=stopwords.words(\"english\"))\n",
    "\n",
    "x_bow_train = cv.fit_transform(x_train[\"clean\"]).toarray()\n",
    "x_bow_test = cv.transform(x_test[\"clean\"]).toarray()"
   ]
  },
  {
   "cell_type": "code",
   "execution_count": null,
   "id": "230463fe",
   "metadata": {},
   "outputs": [],
   "source": [
    "tfidf = TfidfVectorizer(max_features=5000,stop_words='english')"
   ]
  },
  {
   "cell_type": "code",
   "execution_count": null,
   "id": "3de68492",
   "metadata": {},
   "outputs": [],
   "source": [
    "x_tfidf_train = tfidf.fit_transform(x_train['clean']).toarray()\n",
    "x_tfidf_test = tfidf.transform(x_test['clean']).toarray()"
   ]
  },
  {
   "cell_type": "code",
   "execution_count": null,
   "id": "a9b6af41",
   "metadata": {},
   "outputs": [],
   "source": [
    "from sklearn.metrics import confusion_matrix\n",
    "from sklearn.ensemble import RandomForestClassifier\n",
    "clf_bow = RandomForestClassifier(n_estimators=200)\n",
    "clf_bow.fit(x_bow_train,y_train)\n",
    "preds_bow = pd.DataFrame(clf_bow.predict(x_bow_test))\n",
    "cm_bow = confusion_matrix(y_pred=preds_bow,y_true=y_test)\n",
    "cm_bow"
   ]
  },
  {
   "cell_type": "code",
   "execution_count": null,
   "id": "243c5d58",
   "metadata": {},
   "outputs": [],
   "source": [
    "clf_tf = RandomForestClassifier(bootstrap='False', max_depth=4, max_features='sqrt',\n",
    "                       min_samples_leaf=7, n_estimators=300, random_state=42)\n",
    "\n",
    "clf_tf.fit(x_tfidf_train,y_train)\n",
    "preds_tf = pd.DataFrame(clf_tf.predict(x_tfidf_test))\n",
    "cm_tf = confusion_matrix(y_pred=preds_tf,y_true=y_test)\n",
    "cm_tf"
   ]
  },
  {
   "cell_type": "code",
   "execution_count": null,
   "id": "f4149879",
   "metadata": {},
   "outputs": [],
   "source": [
    "from sklearn.metrics import roc_auc_score\n",
    "from skopt import BayesSearchCV\n",
    "opt = BayesSearchCV(\n",
    "    RandomForestClassifier(random_state=42),\n",
    "    {\n",
    "        'n_estimators': [5,50,100,150,200,300],\n",
    "        'max_features': ['auto','sqrt'],\n",
    "        'max_depth': [2,3,4],\n",
    "        'min_samples_split': [2,3,4],\n",
    "        'min_samples_leaf': [1,7],\n",
    "        'bootstrap': [\"True\",\"False\"]\n",
    "    },\n",
    "    n_iter=32,\n",
    "    cv=3,\n",
    "    scoring='roc_auc'\n",
    ")\n",
    "\n",
    "opt.fit(x_bow_train, y_train)\n",
    "\n",
    "print(\"val. score: %s\" % opt.best_score_)"
   ]
  },
  {
   "cell_type": "code",
   "execution_count": null,
   "id": "3f58b4b2",
   "metadata": {},
   "outputs": [],
   "source": [
    "opt.best_estimator_"
   ]
  },
  {
   "cell_type": "code",
   "execution_count": null,
   "id": "79ea7c34",
   "metadata": {},
   "outputs": [],
   "source": []
  }
 ],
 "metadata": {
  "kernelspec": {
   "display_name": "Python 3 (ipykernel)",
   "language": "python",
   "name": "python3"
  },
  "language_info": {
   "codemirror_mode": {
    "name": "ipython",
    "version": 3
   },
   "file_extension": ".py",
   "mimetype": "text/x-python",
   "name": "python",
   "nbconvert_exporter": "python",
   "pygments_lexer": "ipython3",
   "version": "3.8.12"
  }
 },
 "nbformat": 4,
 "nbformat_minor": 5
}
