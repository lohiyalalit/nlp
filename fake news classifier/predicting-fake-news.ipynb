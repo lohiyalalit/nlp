{
 "cells": [
  {
   "cell_type": "markdown",
   "metadata": {},
   "source": [
    "# Fake News Natural Language Processing project"
   ]
  },
  {
   "cell_type": "code",
   "execution_count": 1,
   "metadata": {
    "execution": {
     "iopub.execute_input": "2022-07-01T07:11:02.235421Z",
     "iopub.status.busy": "2022-07-01T07:11:02.234550Z",
     "iopub.status.idle": "2022-07-01T07:11:02.264401Z",
     "shell.execute_reply": "2022-07-01T07:11:02.263143Z",
     "shell.execute_reply.started": "2022-07-01T07:11:02.235302Z"
    }
   },
   "outputs": [],
   "source": [
    "import pandas as pd\n",
    "import numpy as np\n",
    "import matplotlib.pyplot as plt\n",
    "%matplotlib inline"
   ]
  },
  {
   "cell_type": "markdown",
   "metadata": {},
   "source": [
    "Importing data. One data set is real news articles and one is fake news articles."
   ]
  },
  {
   "cell_type": "code",
   "execution_count": 2,
   "metadata": {
    "execution": {
     "iopub.execute_input": "2022-07-01T07:11:02.266763Z",
     "iopub.status.busy": "2022-07-01T07:11:02.266217Z",
     "iopub.status.idle": "2022-07-01T07:11:03.660397Z",
     "shell.execute_reply": "2022-07-01T07:11:03.659702Z",
     "shell.execute_reply.started": "2022-07-01T07:11:02.266719Z"
    }
   },
   "outputs": [],
   "source": [
    "true = pd.read_csv('True.csv')"
   ]
  },
  {
   "cell_type": "code",
   "execution_count": 3,
   "metadata": {
    "execution": {
     "iopub.execute_input": "2022-07-01T07:11:03.661907Z",
     "iopub.status.busy": "2022-07-01T07:11:03.661694Z",
     "iopub.status.idle": "2022-07-01T07:11:05.333223Z",
     "shell.execute_reply": "2022-07-01T07:11:05.332147Z",
     "shell.execute_reply.started": "2022-07-01T07:11:03.661881Z"
    }
   },
   "outputs": [],
   "source": [
    "false = pd.read_csv('Fake.csv')"
   ]
  },
  {
   "cell_type": "markdown",
   "metadata": {},
   "source": [
    "Checking the data"
   ]
  },
  {
   "cell_type": "code",
   "execution_count": 4,
   "metadata": {
    "execution": {
     "iopub.execute_input": "2022-07-01T07:11:08.763129Z",
     "iopub.status.busy": "2022-07-01T07:11:08.762833Z",
     "iopub.status.idle": "2022-07-01T07:11:08.783880Z",
     "shell.execute_reply": "2022-07-01T07:11:08.782930Z",
     "shell.execute_reply.started": "2022-07-01T07:11:08.763093Z"
    }
   },
   "outputs": [
    {
     "data": {
      "text/html": [
       "<div>\n",
       "<style scoped>\n",
       "    .dataframe tbody tr th:only-of-type {\n",
       "        vertical-align: middle;\n",
       "    }\n",
       "\n",
       "    .dataframe tbody tr th {\n",
       "        vertical-align: top;\n",
       "    }\n",
       "\n",
       "    .dataframe thead th {\n",
       "        text-align: right;\n",
       "    }\n",
       "</style>\n",
       "<table border=\"1\" class=\"dataframe\">\n",
       "  <thead>\n",
       "    <tr style=\"text-align: right;\">\n",
       "      <th></th>\n",
       "      <th>title</th>\n",
       "      <th>text</th>\n",
       "      <th>subject</th>\n",
       "      <th>date</th>\n",
       "    </tr>\n",
       "  </thead>\n",
       "  <tbody>\n",
       "    <tr>\n",
       "      <th>0</th>\n",
       "      <td>As U.S. budget fight looms, Republicans flip t...</td>\n",
       "      <td>WASHINGTON (Reuters) - The head of a conservat...</td>\n",
       "      <td>politicsNews</td>\n",
       "      <td>December 31, 2017</td>\n",
       "    </tr>\n",
       "    <tr>\n",
       "      <th>1</th>\n",
       "      <td>U.S. military to accept transgender recruits o...</td>\n",
       "      <td>WASHINGTON (Reuters) - Transgender people will...</td>\n",
       "      <td>politicsNews</td>\n",
       "      <td>December 29, 2017</td>\n",
       "    </tr>\n",
       "    <tr>\n",
       "      <th>2</th>\n",
       "      <td>Senior U.S. Republican senator: 'Let Mr. Muell...</td>\n",
       "      <td>WASHINGTON (Reuters) - The special counsel inv...</td>\n",
       "      <td>politicsNews</td>\n",
       "      <td>December 31, 2017</td>\n",
       "    </tr>\n",
       "    <tr>\n",
       "      <th>3</th>\n",
       "      <td>FBI Russia probe helped by Australian diplomat...</td>\n",
       "      <td>WASHINGTON (Reuters) - Trump campaign adviser ...</td>\n",
       "      <td>politicsNews</td>\n",
       "      <td>December 30, 2017</td>\n",
       "    </tr>\n",
       "    <tr>\n",
       "      <th>4</th>\n",
       "      <td>Trump wants Postal Service to charge 'much mor...</td>\n",
       "      <td>SEATTLE/WASHINGTON (Reuters) - President Donal...</td>\n",
       "      <td>politicsNews</td>\n",
       "      <td>December 29, 2017</td>\n",
       "    </tr>\n",
       "  </tbody>\n",
       "</table>\n",
       "</div>"
      ],
      "text/plain": [
       "                                               title  \\\n",
       "0  As U.S. budget fight looms, Republicans flip t...   \n",
       "1  U.S. military to accept transgender recruits o...   \n",
       "2  Senior U.S. Republican senator: 'Let Mr. Muell...   \n",
       "3  FBI Russia probe helped by Australian diplomat...   \n",
       "4  Trump wants Postal Service to charge 'much mor...   \n",
       "\n",
       "                                                text       subject  \\\n",
       "0  WASHINGTON (Reuters) - The head of a conservat...  politicsNews   \n",
       "1  WASHINGTON (Reuters) - Transgender people will...  politicsNews   \n",
       "2  WASHINGTON (Reuters) - The special counsel inv...  politicsNews   \n",
       "3  WASHINGTON (Reuters) - Trump campaign adviser ...  politicsNews   \n",
       "4  SEATTLE/WASHINGTON (Reuters) - President Donal...  politicsNews   \n",
       "\n",
       "                 date  \n",
       "0  December 31, 2017   \n",
       "1  December 29, 2017   \n",
       "2  December 31, 2017   \n",
       "3  December 30, 2017   \n",
       "4  December 29, 2017   "
      ]
     },
     "execution_count": 4,
     "metadata": {},
     "output_type": "execute_result"
    }
   ],
   "source": [
    "true.head()"
   ]
  },
  {
   "cell_type": "markdown",
   "metadata": {},
   "source": [
    "Adding columns in each dataframe indicating whether it is real or fake news. Real news is assigned as '1' and fake news is '0'."
   ]
  },
  {
   "cell_type": "code",
   "execution_count": 5,
   "metadata": {
    "execution": {
     "iopub.execute_input": "2022-07-01T07:11:09.911093Z",
     "iopub.status.busy": "2022-07-01T07:11:09.910266Z",
     "iopub.status.idle": "2022-07-01T07:11:09.919502Z",
     "shell.execute_reply": "2022-07-01T07:11:09.918618Z",
     "shell.execute_reply.started": "2022-07-01T07:11:09.911050Z"
    }
   },
   "outputs": [],
   "source": [
    "true['truth'] = 1"
   ]
  },
  {
   "cell_type": "code",
   "execution_count": 6,
   "metadata": {
    "execution": {
     "iopub.execute_input": "2022-07-01T07:11:11.003150Z",
     "iopub.status.busy": "2022-07-01T07:11:11.002878Z",
     "iopub.status.idle": "2022-07-01T07:11:11.009850Z",
     "shell.execute_reply": "2022-07-01T07:11:11.008834Z",
     "shell.execute_reply.started": "2022-07-01T07:11:11.003121Z"
    }
   },
   "outputs": [],
   "source": [
    "false['truth'] = 0"
   ]
  },
  {
   "cell_type": "markdown",
   "metadata": {},
   "source": [
    "Checking the information about each dataframe."
   ]
  },
  {
   "cell_type": "code",
   "execution_count": 7,
   "metadata": {
    "execution": {
     "iopub.execute_input": "2022-07-01T07:11:16.048426Z",
     "iopub.status.busy": "2022-07-01T07:11:16.047920Z",
     "iopub.status.idle": "2022-07-01T07:11:16.077624Z",
     "shell.execute_reply": "2022-07-01T07:11:16.076444Z",
     "shell.execute_reply.started": "2022-07-01T07:11:16.048392Z"
    }
   },
   "outputs": [
    {
     "name": "stdout",
     "output_type": "stream",
     "text": [
      "<class 'pandas.core.frame.DataFrame'>\n",
      "RangeIndex: 21417 entries, 0 to 21416\n",
      "Data columns (total 5 columns):\n",
      " #   Column   Non-Null Count  Dtype \n",
      "---  ------   --------------  ----- \n",
      " 0   title    21417 non-null  object\n",
      " 1   text     21417 non-null  object\n",
      " 2   subject  21417 non-null  object\n",
      " 3   date     21417 non-null  object\n",
      " 4   truth    21417 non-null  int64 \n",
      "dtypes: int64(1), object(4)\n",
      "memory usage: 836.7+ KB\n"
     ]
    }
   ],
   "source": [
    "true.info()"
   ]
  },
  {
   "cell_type": "code",
   "execution_count": 8,
   "metadata": {
    "execution": {
     "iopub.execute_input": "2022-07-01T07:11:16.696180Z",
     "iopub.status.busy": "2022-07-01T07:11:16.695918Z",
     "iopub.status.idle": "2022-07-01T07:11:16.716346Z",
     "shell.execute_reply": "2022-07-01T07:11:16.715542Z",
     "shell.execute_reply.started": "2022-07-01T07:11:16.696152Z"
    }
   },
   "outputs": [
    {
     "name": "stdout",
     "output_type": "stream",
     "text": [
      "<class 'pandas.core.frame.DataFrame'>\n",
      "RangeIndex: 23481 entries, 0 to 23480\n",
      "Data columns (total 5 columns):\n",
      " #   Column   Non-Null Count  Dtype \n",
      "---  ------   --------------  ----- \n",
      " 0   title    23481 non-null  object\n",
      " 1   text     23481 non-null  object\n",
      " 2   subject  23481 non-null  object\n",
      " 3   date     23481 non-null  object\n",
      " 4   truth    23481 non-null  int64 \n",
      "dtypes: int64(1), object(4)\n",
      "memory usage: 917.4+ KB\n"
     ]
    }
   ],
   "source": [
    "false.info()"
   ]
  },
  {
   "cell_type": "markdown",
   "metadata": {},
   "source": [
    "Concating the two dataframes together into a single dataframe to analyze."
   ]
  },
  {
   "cell_type": "code",
   "execution_count": 9,
   "metadata": {
    "execution": {
     "iopub.execute_input": "2022-07-01T07:11:19.501813Z",
     "iopub.status.busy": "2022-07-01T07:11:19.500946Z",
     "iopub.status.idle": "2022-07-01T07:11:19.511299Z",
     "shell.execute_reply": "2022-07-01T07:11:19.510660Z",
     "shell.execute_reply.started": "2022-07-01T07:11:19.501758Z"
    }
   },
   "outputs": [],
   "source": [
    "news = pd.concat([true,false])"
   ]
  },
  {
   "cell_type": "code",
   "execution_count": 10,
   "metadata": {
    "execution": {
     "iopub.execute_input": "2022-07-01T07:11:20.174707Z",
     "iopub.status.busy": "2022-07-01T07:11:20.174236Z",
     "iopub.status.idle": "2022-07-01T07:11:20.184553Z",
     "shell.execute_reply": "2022-07-01T07:11:20.183946Z",
     "shell.execute_reply.started": "2022-07-01T07:11:20.174659Z"
    }
   },
   "outputs": [
    {
     "data": {
      "text/html": [
       "<div>\n",
       "<style scoped>\n",
       "    .dataframe tbody tr th:only-of-type {\n",
       "        vertical-align: middle;\n",
       "    }\n",
       "\n",
       "    .dataframe tbody tr th {\n",
       "        vertical-align: top;\n",
       "    }\n",
       "\n",
       "    .dataframe thead th {\n",
       "        text-align: right;\n",
       "    }\n",
       "</style>\n",
       "<table border=\"1\" class=\"dataframe\">\n",
       "  <thead>\n",
       "    <tr style=\"text-align: right;\">\n",
       "      <th></th>\n",
       "      <th>title</th>\n",
       "      <th>text</th>\n",
       "      <th>subject</th>\n",
       "      <th>date</th>\n",
       "      <th>truth</th>\n",
       "    </tr>\n",
       "  </thead>\n",
       "  <tbody>\n",
       "    <tr>\n",
       "      <th>0</th>\n",
       "      <td>As U.S. budget fight looms, Republicans flip t...</td>\n",
       "      <td>WASHINGTON (Reuters) - The head of a conservat...</td>\n",
       "      <td>politicsNews</td>\n",
       "      <td>December 31, 2017</td>\n",
       "      <td>1</td>\n",
       "    </tr>\n",
       "    <tr>\n",
       "      <th>1</th>\n",
       "      <td>U.S. military to accept transgender recruits o...</td>\n",
       "      <td>WASHINGTON (Reuters) - Transgender people will...</td>\n",
       "      <td>politicsNews</td>\n",
       "      <td>December 29, 2017</td>\n",
       "      <td>1</td>\n",
       "    </tr>\n",
       "    <tr>\n",
       "      <th>2</th>\n",
       "      <td>Senior U.S. Republican senator: 'Let Mr. Muell...</td>\n",
       "      <td>WASHINGTON (Reuters) - The special counsel inv...</td>\n",
       "      <td>politicsNews</td>\n",
       "      <td>December 31, 2017</td>\n",
       "      <td>1</td>\n",
       "    </tr>\n",
       "    <tr>\n",
       "      <th>3</th>\n",
       "      <td>FBI Russia probe helped by Australian diplomat...</td>\n",
       "      <td>WASHINGTON (Reuters) - Trump campaign adviser ...</td>\n",
       "      <td>politicsNews</td>\n",
       "      <td>December 30, 2017</td>\n",
       "      <td>1</td>\n",
       "    </tr>\n",
       "    <tr>\n",
       "      <th>4</th>\n",
       "      <td>Trump wants Postal Service to charge 'much mor...</td>\n",
       "      <td>SEATTLE/WASHINGTON (Reuters) - President Donal...</td>\n",
       "      <td>politicsNews</td>\n",
       "      <td>December 29, 2017</td>\n",
       "      <td>1</td>\n",
       "    </tr>\n",
       "  </tbody>\n",
       "</table>\n",
       "</div>"
      ],
      "text/plain": [
       "                                               title  \\\n",
       "0  As U.S. budget fight looms, Republicans flip t...   \n",
       "1  U.S. military to accept transgender recruits o...   \n",
       "2  Senior U.S. Republican senator: 'Let Mr. Muell...   \n",
       "3  FBI Russia probe helped by Australian diplomat...   \n",
       "4  Trump wants Postal Service to charge 'much mor...   \n",
       "\n",
       "                                                text       subject  \\\n",
       "0  WASHINGTON (Reuters) - The head of a conservat...  politicsNews   \n",
       "1  WASHINGTON (Reuters) - Transgender people will...  politicsNews   \n",
       "2  WASHINGTON (Reuters) - The special counsel inv...  politicsNews   \n",
       "3  WASHINGTON (Reuters) - Trump campaign adviser ...  politicsNews   \n",
       "4  SEATTLE/WASHINGTON (Reuters) - President Donal...  politicsNews   \n",
       "\n",
       "                 date  truth  \n",
       "0  December 31, 2017       1  \n",
       "1  December 29, 2017       1  \n",
       "2  December 31, 2017       1  \n",
       "3  December 30, 2017       1  \n",
       "4  December 29, 2017       1  "
      ]
     },
     "execution_count": 10,
     "metadata": {},
     "output_type": "execute_result"
    }
   ],
   "source": [
    "news.head()"
   ]
  },
  {
   "cell_type": "markdown",
   "metadata": {},
   "source": [
    "## Checking the numbers of truthful articles and fake news article."
   ]
  },
  {
   "cell_type": "code",
   "execution_count": 11,
   "metadata": {
    "execution": {
     "iopub.execute_input": "2022-07-01T07:11:28.517034Z",
     "iopub.status.busy": "2022-07-01T07:11:28.516542Z",
     "iopub.status.idle": "2022-07-01T07:11:28.525665Z",
     "shell.execute_reply": "2022-07-01T07:11:28.524665Z",
     "shell.execute_reply.started": "2022-07-01T07:11:28.516987Z"
    }
   },
   "outputs": [
    {
     "data": {
      "text/plain": [
       "0    23481\n",
       "1    21417\n",
       "Name: truth, dtype: int64"
      ]
     },
     "execution_count": 11,
     "metadata": {},
     "output_type": "execute_result"
    }
   ],
   "source": [
    "news['truth'].value_counts()"
   ]
  },
  {
   "cell_type": "markdown",
   "metadata": {},
   "source": [
    "## How many different subjects are there in the dataframe?"
   ]
  },
  {
   "cell_type": "code",
   "execution_count": 12,
   "metadata": {
    "execution": {
     "iopub.execute_input": "2022-07-01T07:11:31.239845Z",
     "iopub.status.busy": "2022-07-01T07:11:31.239247Z",
     "iopub.status.idle": "2022-07-01T07:11:31.252132Z",
     "shell.execute_reply": "2022-07-01T07:11:31.251486Z",
     "shell.execute_reply.started": "2022-07-01T07:11:31.239800Z"
    }
   },
   "outputs": [
    {
     "data": {
      "text/plain": [
       "politicsNews       11272\n",
       "worldnews          10145\n",
       "News                9050\n",
       "politics            6841\n",
       "left-news           4459\n",
       "Government News     1570\n",
       "US_News              783\n",
       "Middle-east          778\n",
       "Name: subject, dtype: int64"
      ]
     },
     "execution_count": 12,
     "metadata": {},
     "output_type": "execute_result"
    }
   ],
   "source": [
    "news['subject'].unique()\n",
    "news['subject'].value_counts()"
   ]
  },
  {
   "cell_type": "markdown",
   "metadata": {},
   "source": [
    "## What percentage of the news in the file is from Left-News outlets?"
   ]
  },
  {
   "cell_type": "code",
   "execution_count": 13,
   "metadata": {
    "execution": {
     "iopub.execute_input": "2022-07-01T07:11:34.793037Z",
     "iopub.status.busy": "2022-07-01T07:11:34.792607Z",
     "iopub.status.idle": "2022-07-01T07:11:34.812109Z",
     "shell.execute_reply": "2022-07-01T07:11:34.811151Z",
     "shell.execute_reply.started": "2022-07-01T07:11:34.793001Z"
    }
   },
   "outputs": [
    {
     "data": {
      "text/plain": [
       "title      0.189898\n",
       "text       0.189898\n",
       "subject    0.189898\n",
       "date       0.189898\n",
       "truth      0.189898\n",
       "dtype: float64"
      ]
     },
     "execution_count": 13,
     "metadata": {},
     "output_type": "execute_result"
    }
   ],
   "source": [
    "false[false['subject'] == 'left-news'].count() / false['subject'].value_counts().sum()"
   ]
  },
  {
   "cell_type": "markdown",
   "metadata": {},
   "source": [
    "It appears that only about 19% of the news is considered 'left-news', while 80% is right-news. "
   ]
  },
  {
   "cell_type": "markdown",
   "metadata": {},
   "source": [
    "## Plotting the count of the different subjects in the news in general."
   ]
  },
  {
   "cell_type": "code",
   "execution_count": 15,
   "metadata": {
    "execution": {
     "iopub.execute_input": "2022-07-01T07:11:39.186630Z",
     "iopub.status.busy": "2022-07-01T07:11:39.185939Z",
     "iopub.status.idle": "2022-07-01T07:11:40.252300Z",
     "shell.execute_reply": "2022-07-01T07:11:40.251569Z",
     "shell.execute_reply.started": "2022-07-01T07:11:39.186590Z"
    }
   },
   "outputs": [],
   "source": [
    "import seaborn as sns"
   ]
  },
  {
   "cell_type": "code",
   "execution_count": 16,
   "metadata": {
    "execution": {
     "iopub.execute_input": "2022-07-01T07:11:40.254244Z",
     "iopub.status.busy": "2022-07-01T07:11:40.253932Z",
     "iopub.status.idle": "2022-07-01T07:11:40.626412Z",
     "shell.execute_reply": "2022-07-01T07:11:40.625591Z",
     "shell.execute_reply.started": "2022-07-01T07:11:40.254203Z"
    }
   },
   "outputs": [
    {
     "data": {
      "image/png": "[encoded data removed]",
      "text/plain": [
       "<Figure size 864x864 with 1 Axes>"
      ]
     },
     "metadata": {
      "needs_background": "light"
     },
     "output_type": "display_data"
    }
   ],
   "source": [
    "plt.figure(figsize = (12,12))\n",
    "sns.countplot(x = 'subject', data = news)\n",
    "plt.xticks(plt.xticks()[0], rotation = 90)\n",
    "plt.tight_layout()"
   ]
  },
  {
   "cell_type": "markdown",
   "metadata": {},
   "source": [
    "## Let's visualize how much of each subject there is in real news."
   ]
  },
  {
   "cell_type": "code",
   "execution_count": 17,
   "metadata": {
    "execution": {
     "iopub.execute_input": "2022-07-01T07:11:47.997470Z",
     "iopub.status.busy": "2022-07-01T07:11:47.996924Z",
     "iopub.status.idle": "2022-07-01T07:11:48.238322Z",
     "shell.execute_reply": "2022-07-01T07:11:48.237491Z",
     "shell.execute_reply.started": "2022-07-01T07:11:47.997434Z"
    }
   },
   "outputs": [
    {
     "data": {
      "image/png": "[encoded data removed]",
      "text/plain": [
       "<Figure size 864x864 with 1 Axes>"
      ]
     },
     "metadata": {
      "needs_background": "light"
     },
     "output_type": "display_data"
    }
   ],
   "source": [
    "plt.figure(figsize = (12,12))\n",
    "sns.countplot(x = 'subject', data = true)\n",
    "plt.xticks(plt.xticks()[0], rotation = 90)\n",
    "plt.tight_layout()"
   ]
  },
  {
   "cell_type": "markdown",
   "metadata": {},
   "source": [
    "## Now, let's have a look at the different subjects in false news."
   ]
  },
  {
   "cell_type": "code",
   "execution_count": 18,
   "metadata": {
    "execution": {
     "iopub.execute_input": "2022-07-01T07:11:49.917133Z",
     "iopub.status.busy": "2022-07-01T07:11:49.916422Z",
     "iopub.status.idle": "2022-07-01T07:11:50.176506Z",
     "shell.execute_reply": "2022-07-01T07:11:50.175705Z",
     "shell.execute_reply.started": "2022-07-01T07:11:49.917086Z"
    }
   },
   "outputs": [
    {
     "data": {
      "image/png": "[encoded data removed]",
      "text/plain": [
       "<Figure size 864x864 with 1 Axes>"
      ]
     },
     "metadata": {
      "needs_background": "light"
     },
     "output_type": "display_data"
    }
   ],
   "source": [
    "plt.figure(figsize = (12,12))\n",
    "sns.countplot(x = 'subject', data = false)\n",
    "plt.xticks(plt.xticks()[0], rotation = 90)\n",
    "plt.tight_layout()"
   ]
  },
  {
   "cell_type": "markdown",
   "metadata": {},
   "source": [
    "## Creating two new columns, text_length and title_length, which are the word counts of both the text and the title."
   ]
  },
  {
   "cell_type": "code",
   "execution_count": 19,
   "metadata": {
    "execution": {
     "iopub.execute_input": "2022-07-01T07:11:51.346069Z",
     "iopub.status.busy": "2022-07-01T07:11:51.345422Z",
     "iopub.status.idle": "2022-07-01T07:11:51.372484Z",
     "shell.execute_reply": "2022-07-01T07:11:51.371563Z",
     "shell.execute_reply.started": "2022-07-01T07:11:51.346021Z"
    }
   },
   "outputs": [],
   "source": [
    "news['text_length'] = news['text'].apply(len)"
   ]
  },
  {
   "cell_type": "code",
   "execution_count": 20,
   "metadata": {
    "execution": {
     "iopub.execute_input": "2022-07-01T07:11:51.891260Z",
     "iopub.status.busy": "2022-07-01T07:11:51.890985Z",
     "iopub.status.idle": "2022-07-01T07:11:51.908679Z",
     "shell.execute_reply": "2022-07-01T07:11:51.908015Z",
     "shell.execute_reply.started": "2022-07-01T07:11:51.891232Z"
    }
   },
   "outputs": [],
   "source": [
    "news['title_length'] = news['title'].apply(len)"
   ]
  },
  {
   "cell_type": "code",
   "execution_count": 21,
   "metadata": {
    "execution": {
     "iopub.execute_input": "2022-07-01T07:11:52.651623Z",
     "iopub.status.busy": "2022-07-01T07:11:52.651147Z",
     "iopub.status.idle": "2022-07-01T07:11:52.663503Z",
     "shell.execute_reply": "2022-07-01T07:11:52.662718Z",
     "shell.execute_reply.started": "2022-07-01T07:11:52.651588Z"
    }
   },
   "outputs": [
    {
     "data": {
      "text/html": [
       "<div>\n",
       "<style scoped>\n",
       "    .dataframe tbody tr th:only-of-type {\n",
       "        vertical-align: middle;\n",
       "    }\n",
       "\n",
       "    .dataframe tbody tr th {\n",
       "        vertical-align: top;\n",
       "    }\n",
       "\n",
       "    .dataframe thead th {\n",
       "        text-align: right;\n",
       "    }\n",
       "</style>\n",
       "<table border=\"1\" class=\"dataframe\">\n",
       "  <thead>\n",
       "    <tr style=\"text-align: right;\">\n",
       "      <th></th>\n",
       "      <th>title</th>\n",
       "      <th>text</th>\n",
       "      <th>subject</th>\n",
       "      <th>date</th>\n",
       "      <th>truth</th>\n",
       "      <th>text_length</th>\n",
       "      <th>title_length</th>\n",
       "    </tr>\n",
       "  </thead>\n",
       "  <tbody>\n",
       "    <tr>\n",
       "      <th>0</th>\n",
       "      <td>As U.S. budget fight looms, Republicans flip t...</td>\n",
       "      <td>WASHINGTON (Reuters) - The head of a conservat...</td>\n",
       "      <td>politicsNews</td>\n",
       "      <td>December 31, 2017</td>\n",
       "      <td>1</td>\n",
       "      <td>4659</td>\n",
       "      <td>64</td>\n",
       "    </tr>\n",
       "    <tr>\n",
       "      <th>1</th>\n",
       "      <td>U.S. military to accept transgender recruits o...</td>\n",
       "      <td>WASHINGTON (Reuters) - Transgender people will...</td>\n",
       "      <td>politicsNews</td>\n",
       "      <td>December 29, 2017</td>\n",
       "      <td>1</td>\n",
       "      <td>4077</td>\n",
       "      <td>64</td>\n",
       "    </tr>\n",
       "    <tr>\n",
       "      <th>2</th>\n",
       "      <td>Senior U.S. Republican senator: 'Let Mr. Muell...</td>\n",
       "      <td>WASHINGTON (Reuters) - The special counsel inv...</td>\n",
       "      <td>politicsNews</td>\n",
       "      <td>December 31, 2017</td>\n",
       "      <td>1</td>\n",
       "      <td>2789</td>\n",
       "      <td>60</td>\n",
       "    </tr>\n",
       "    <tr>\n",
       "      <th>3</th>\n",
       "      <td>FBI Russia probe helped by Australian diplomat...</td>\n",
       "      <td>WASHINGTON (Reuters) - Trump campaign adviser ...</td>\n",
       "      <td>politicsNews</td>\n",
       "      <td>December 30, 2017</td>\n",
       "      <td>1</td>\n",
       "      <td>2461</td>\n",
       "      <td>59</td>\n",
       "    </tr>\n",
       "    <tr>\n",
       "      <th>4</th>\n",
       "      <td>Trump wants Postal Service to charge 'much mor...</td>\n",
       "      <td>SEATTLE/WASHINGTON (Reuters) - President Donal...</td>\n",
       "      <td>politicsNews</td>\n",
       "      <td>December 29, 2017</td>\n",
       "      <td>1</td>\n",
       "      <td>5204</td>\n",
       "      <td>69</td>\n",
       "    </tr>\n",
       "  </tbody>\n",
       "</table>\n",
       "</div>"
      ],
      "text/plain": [
       "                                               title  \\\n",
       "0  As U.S. budget fight looms, Republicans flip t...   \n",
       "1  U.S. military to accept transgender recruits o...   \n",
       "2  Senior U.S. Republican senator: 'Let Mr. Muell...   \n",
       "3  FBI Russia probe helped by Australian diplomat...   \n",
       "4  Trump wants Postal Service to charge 'much mor...   \n",
       "\n",
       "                                                text       subject  \\\n",
       "0  WASHINGTON (Reuters) - The head of a conservat...  politicsNews   \n",
       "1  WASHINGTON (Reuters) - Transgender people will...  politicsNews   \n",
       "2  WASHINGTON (Reuters) - The special counsel inv...  politicsNews   \n",
       "3  WASHINGTON (Reuters) - Trump campaign adviser ...  politicsNews   \n",
       "4  SEATTLE/WASHINGTON (Reuters) - President Donal...  politicsNews   \n",
       "\n",
       "                 date  truth  text_length  title_length  \n",
       "0  December 31, 2017       1         4659            64  \n",
       "1  December 29, 2017       1         4077            64  \n",
       "2  December 31, 2017       1         2789            60  \n",
       "3  December 30, 2017       1         2461            59  \n",
       "4  December 29, 2017       1         5204            69  "
      ]
     },
     "execution_count": 21,
     "metadata": {},
     "output_type": "execute_result"
    }
   ],
   "source": [
    "news.head()"
   ]
  },
  {
   "cell_type": "markdown",
   "metadata": {},
   "source": [
    "## Plotting the word counts of each article. The X axis is 'truth', and the Y axis is the length of the text or the title, respectively. The different colors represent the subject."
   ]
  },
  {
   "cell_type": "code",
   "execution_count": 22,
   "metadata": {
    "execution": {
     "iopub.execute_input": "2022-07-01T07:11:54.528407Z",
     "iopub.status.busy": "2022-07-01T07:11:54.528113Z",
     "iopub.status.idle": "2022-07-01T07:11:55.585459Z",
     "shell.execute_reply": "2022-07-01T07:11:55.584593Z",
     "shell.execute_reply.started": "2022-07-01T07:11:54.528373Z"
    }
   },
   "outputs": [
    {
     "data": {
      "text/plain": [
       "<matplotlib.legend.Legend at 0x2ade7c60b80>"
      ]
     },
     "execution_count": 22,
     "metadata": {},
     "output_type": "execute_result"
    },
    {
     "data": {
      "image/png": "[encoded data removed]",
      "text/plain": [
       "<Figure size 720x432 with 1 Axes>"
      ]
     },
     "metadata": {
      "needs_background": "light"
     },
     "output_type": "display_data"
    }
   ],
   "source": [
    "plt.figure(figsize = (10,6))\n",
    "\n",
    "sns.barplot(x = 'truth', y = 'text_length', data = news, hue = 'subject')\n",
    "#plt.xticks(plt.xticks()[0], rotation = 90)\n",
    "plt.tight_layout()\n",
    "plt.legend(loc='upper right')"
   ]
  },
  {
   "cell_type": "code",
   "execution_count": 23,
   "metadata": {
    "execution": {
     "iopub.execute_input": "2022-07-01T07:11:55.587099Z",
     "iopub.status.busy": "2022-07-01T07:11:55.586864Z",
     "iopub.status.idle": "2022-07-01T07:11:56.665568Z",
     "shell.execute_reply": "2022-07-01T07:11:56.664706Z",
     "shell.execute_reply.started": "2022-07-01T07:11:55.587070Z"
    }
   },
   "outputs": [
    {
     "data": {
      "text/plain": [
       "<matplotlib.legend.Legend at 0x2ad80254f70>"
      ]
     },
     "execution_count": 23,
     "metadata": {},
     "output_type": "execute_result"
    },
    {
     "data": {
      "image/png": "[encoded data removed]",
      "text/plain": [
       "<Figure size 720x432 with 1 Axes>"
      ]
     },
     "metadata": {
      "needs_background": "light"
     },
     "output_type": "display_data"
    }
   ],
   "source": [
    "plt.figure(figsize = (10,6))\n",
    "\n",
    "sns.barplot(x = 'truth', y = 'title_length', data = news, hue = 'subject')\n",
    "#plt.xticks(plt.xticks()[0], rotation = 90)\n",
    "plt.tight_layout()\n",
    "plt.legend(loc='upper right')"
   ]
  },
  {
   "cell_type": "markdown",
   "metadata": {},
   "source": [
    "## Getting the mean length of real and fake news for text and title lengths."
   ]
  },
  {
   "cell_type": "code",
   "execution_count": 24,
   "metadata": {
    "execution": {
     "iopub.execute_input": "2022-07-01T07:11:57.817582Z",
     "iopub.status.busy": "2022-07-01T07:11:57.817160Z",
     "iopub.status.idle": "2022-07-01T07:11:57.837050Z",
     "shell.execute_reply": "2022-07-01T07:11:57.836401Z",
     "shell.execute_reply.started": "2022-07-01T07:11:57.817551Z"
    }
   },
   "outputs": [
    {
     "data": {
      "text/html": [
       "<div>\n",
       "<style scoped>\n",
       "    .dataframe tbody tr th:only-of-type {\n",
       "        vertical-align: middle;\n",
       "    }\n",
       "\n",
       "    .dataframe tbody tr th {\n",
       "        vertical-align: top;\n",
       "    }\n",
       "\n",
       "    .dataframe thead th {\n",
       "        text-align: right;\n",
       "    }\n",
       "</style>\n",
       "<table border=\"1\" class=\"dataframe\">\n",
       "  <thead>\n",
       "    <tr style=\"text-align: right;\">\n",
       "      <th></th>\n",
       "      <th>text_length</th>\n",
       "      <th>title_length</th>\n",
       "    </tr>\n",
       "    <tr>\n",
       "      <th>truth</th>\n",
       "      <th></th>\n",
       "      <th></th>\n",
       "    </tr>\n",
       "  </thead>\n",
       "  <tbody>\n",
       "    <tr>\n",
       "      <th>0</th>\n",
       "      <td>2547.396235</td>\n",
       "      <td>94.198032</td>\n",
       "    </tr>\n",
       "    <tr>\n",
       "      <th>1</th>\n",
       "      <td>2383.278517</td>\n",
       "      <td>64.667881</td>\n",
       "    </tr>\n",
       "  </tbody>\n",
       "</table>\n",
       "</div>"
      ],
      "text/plain": [
       "       text_length  title_length\n",
       "truth                           \n",
       "0      2547.396235     94.198032\n",
       "1      2383.278517     64.667881"
      ]
     },
     "execution_count": 24,
     "metadata": {},
     "output_type": "execute_result"
    }
   ],
   "source": [
    "news.groupby('truth').mean()"
   ]
  },
  {
   "cell_type": "markdown",
   "metadata": {},
   "source": [
    "It looks like text lengths are about the same, but title lengths for fake news are significantly longer."
   ]
  },
  {
   "cell_type": "markdown",
   "metadata": {},
   "source": [
    "## Getting some basic statistics on text and title lengths for fake and real news."
   ]
  },
  {
   "cell_type": "code",
   "execution_count": 25,
   "metadata": {
    "execution": {
     "iopub.execute_input": "2022-07-01T07:12:00.365706Z",
     "iopub.status.busy": "2022-07-01T07:12:00.363789Z",
     "iopub.status.idle": "2022-07-01T07:12:00.421962Z",
     "shell.execute_reply": "2022-07-01T07:12:00.421015Z",
     "shell.execute_reply.started": "2022-07-01T07:12:00.365641Z"
    }
   },
   "outputs": [
    {
     "data": {
      "text/html": [
       "<div>\n",
       "<style scoped>\n",
       "    .dataframe tbody tr th:only-of-type {\n",
       "        vertical-align: middle;\n",
       "    }\n",
       "\n",
       "    .dataframe tbody tr th {\n",
       "        vertical-align: top;\n",
       "    }\n",
       "\n",
       "    .dataframe thead tr th {\n",
       "        text-align: left;\n",
       "    }\n",
       "\n",
       "    .dataframe thead tr:last-of-type th {\n",
       "        text-align: right;\n",
       "    }\n",
       "</style>\n",
       "<table border=\"1\" class=\"dataframe\">\n",
       "  <thead>\n",
       "    <tr>\n",
       "      <th></th>\n",
       "      <th colspan=\"8\" halign=\"left\">text_length</th>\n",
       "      <th colspan=\"8\" halign=\"left\">title_length</th>\n",
       "    </tr>\n",
       "    <tr>\n",
       "      <th></th>\n",
       "      <th>count</th>\n",
       "      <th>mean</th>\n",
       "      <th>std</th>\n",
       "      <th>min</th>\n",
       "      <th>25%</th>\n",
       "      <th>50%</th>\n",
       "      <th>75%</th>\n",
       "      <th>max</th>\n",
       "      <th>count</th>\n",
       "      <th>mean</th>\n",
       "      <th>std</th>\n",
       "      <th>min</th>\n",
       "      <th>25%</th>\n",
       "      <th>50%</th>\n",
       "      <th>75%</th>\n",
       "      <th>max</th>\n",
       "    </tr>\n",
       "    <tr>\n",
       "      <th>truth</th>\n",
       "      <th></th>\n",
       "      <th></th>\n",
       "      <th></th>\n",
       "      <th></th>\n",
       "      <th></th>\n",
       "      <th></th>\n",
       "      <th></th>\n",
       "      <th></th>\n",
       "      <th></th>\n",
       "      <th></th>\n",
       "      <th></th>\n",
       "      <th></th>\n",
       "      <th></th>\n",
       "      <th></th>\n",
       "      <th></th>\n",
       "      <th></th>\n",
       "    </tr>\n",
       "  </thead>\n",
       "  <tbody>\n",
       "    <tr>\n",
       "      <th>0</th>\n",
       "      <td>23481.0</td>\n",
       "      <td>2547.396235</td>\n",
       "      <td>2532.884399</td>\n",
       "      <td>1.0</td>\n",
       "      <td>1433.0</td>\n",
       "      <td>2166.0</td>\n",
       "      <td>3032.0</td>\n",
       "      <td>51794.0</td>\n",
       "      <td>23481.0</td>\n",
       "      <td>94.198032</td>\n",
       "      <td>27.184433</td>\n",
       "      <td>8.0</td>\n",
       "      <td>77.0</td>\n",
       "      <td>90.0</td>\n",
       "      <td>105.0</td>\n",
       "      <td>286.0</td>\n",
       "    </tr>\n",
       "    <tr>\n",
       "      <th>1</th>\n",
       "      <td>21417.0</td>\n",
       "      <td>2383.278517</td>\n",
       "      <td>1684.835730</td>\n",
       "      <td>1.0</td>\n",
       "      <td>914.0</td>\n",
       "      <td>2222.0</td>\n",
       "      <td>3237.0</td>\n",
       "      <td>29781.0</td>\n",
       "      <td>21417.0</td>\n",
       "      <td>64.667881</td>\n",
       "      <td>9.168999</td>\n",
       "      <td>26.0</td>\n",
       "      <td>59.0</td>\n",
       "      <td>64.0</td>\n",
       "      <td>70.0</td>\n",
       "      <td>133.0</td>\n",
       "    </tr>\n",
       "  </tbody>\n",
       "</table>\n",
       "</div>"
      ],
      "text/plain": [
       "      text_length                                                         \\\n",
       "            count         mean          std  min     25%     50%     75%   \n",
       "truth                                                                      \n",
       "0         23481.0  2547.396235  2532.884399  1.0  1433.0  2166.0  3032.0   \n",
       "1         21417.0  2383.278517  1684.835730  1.0   914.0  2222.0  3237.0   \n",
       "\n",
       "               title_length                                                 \\\n",
       "           max        count       mean        std   min   25%   50%    75%   \n",
       "truth                                                                        \n",
       "0      51794.0      23481.0  94.198032  27.184433   8.0  77.0  90.0  105.0   \n",
       "1      29781.0      21417.0  64.667881   9.168999  26.0  59.0  64.0   70.0   \n",
       "\n",
       "              \n",
       "         max  \n",
       "truth         \n",
       "0      286.0  \n",
       "1      133.0  "
      ]
     },
     "execution_count": 25,
     "metadata": {},
     "output_type": "execute_result"
    }
   ],
   "source": [
    "news.groupby('truth').describe()"
   ]
  },
  {
   "cell_type": "markdown",
   "metadata": {},
   "source": [
    "## Graphing the text lengths to both real and fake news."
   ]
  },
  {
   "cell_type": "code",
   "execution_count": 26,
   "metadata": {
    "execution": {
     "iopub.execute_input": "2022-07-01T07:12:02.131382Z",
     "iopub.status.busy": "2022-07-01T07:12:02.131089Z",
     "iopub.status.idle": "2022-07-01T07:12:02.701239Z",
     "shell.execute_reply": "2022-07-01T07:12:02.700597Z",
     "shell.execute_reply.started": "2022-07-01T07:12:02.131351Z"
    }
   },
   "outputs": [
    {
     "data": {
      "text/plain": [
       "<seaborn.axisgrid.FacetGrid at 0x2ade576c160>"
      ]
     },
     "execution_count": 26,
     "metadata": {},
     "output_type": "execute_result"
    },
    {
     "data": {
      "image/png": "[encoded data removed]",
      "text/plain": [
       "<Figure size 432x216 with 2 Axes>"
      ]
     },
     "metadata": {
      "needs_background": "light"
     },
     "output_type": "display_data"
    }
   ],
   "source": [
    "g = sns.FacetGrid(data = news, col = 'truth')\n",
    "g.map(plt.hist, 'text_length', bins = 50)"
   ]
  },
  {
   "cell_type": "markdown",
   "metadata": {},
   "source": [
    "## What percent of texts are longer than 10k words?"
   ]
  },
  {
   "cell_type": "code",
   "execution_count": 27,
   "metadata": {
    "execution": {
     "iopub.execute_input": "2022-07-01T07:12:03.291714Z",
     "iopub.status.busy": "2022-07-01T07:12:03.291032Z",
     "iopub.status.idle": "2022-07-01T07:12:03.303304Z",
     "shell.execute_reply": "2022-07-01T07:12:03.302353Z",
     "shell.execute_reply.started": "2022-07-01T07:12:03.291625Z"
    }
   },
   "outputs": [
    {
     "data": {
      "text/plain": [
       "title           0.00784\n",
       "text            0.00784\n",
       "subject         0.00784\n",
       "date            0.00784\n",
       "truth           0.00784\n",
       "text_length     0.00784\n",
       "title_length    0.00784\n",
       "dtype: float64"
      ]
     },
     "execution_count": 27,
     "metadata": {},
     "output_type": "execute_result"
    }
   ],
   "source": [
    "news[news['text_length'] >= 10000].count() / news['text_length'].count()"
   ]
  },
  {
   "cell_type": "markdown",
   "metadata": {},
   "source": [
    "## Dropping texts that are longer than 10k words in length."
   ]
  },
  {
   "cell_type": "code",
   "execution_count": 28,
   "metadata": {
    "execution": {
     "iopub.execute_input": "2022-07-01T07:12:04.432484Z",
     "iopub.status.busy": "2022-07-01T07:12:04.432194Z",
     "iopub.status.idle": "2022-07-01T07:12:04.454146Z",
     "shell.execute_reply": "2022-07-01T07:12:04.453141Z",
     "shell.execute_reply.started": "2022-07-01T07:12:04.432452Z"
    }
   },
   "outputs": [],
   "source": [
    "news.drop(news[news['text_length'] >= 10000].index, inplace = True)"
   ]
  },
  {
   "cell_type": "code",
   "execution_count": 29,
   "metadata": {
    "execution": {
     "iopub.execute_input": "2022-07-01T07:12:04.992705Z",
     "iopub.status.busy": "2022-07-01T07:12:04.992121Z",
     "iopub.status.idle": "2022-07-01T07:12:05.002503Z",
     "shell.execute_reply": "2022-07-01T07:12:05.001744Z",
     "shell.execute_reply.started": "2022-07-01T07:12:04.992637Z"
    }
   },
   "outputs": [
    {
     "data": {
      "text/plain": [
       "title           0.0\n",
       "text            0.0\n",
       "subject         0.0\n",
       "date            0.0\n",
       "truth           0.0\n",
       "text_length     0.0\n",
       "title_length    0.0\n",
       "dtype: float64"
      ]
     },
     "execution_count": 29,
     "metadata": {},
     "output_type": "execute_result"
    }
   ],
   "source": [
    "news[news['text_length'] >= 10000].count() / news['text_length'].count()"
   ]
  },
  {
   "cell_type": "code",
   "execution_count": 30,
   "metadata": {
    "execution": {
     "iopub.execute_input": "2022-07-01T07:12:05.552584Z",
     "iopub.status.busy": "2022-07-01T07:12:05.552297Z",
     "iopub.status.idle": "2022-07-01T07:12:05.565866Z",
     "shell.execute_reply": "2022-07-01T07:12:05.564906Z",
     "shell.execute_reply.started": "2022-07-01T07:12:05.552550Z"
    }
   },
   "outputs": [
    {
     "data": {
      "text/html": [
       "<div>\n",
       "<style scoped>\n",
       "    .dataframe tbody tr th:only-of-type {\n",
       "        vertical-align: middle;\n",
       "    }\n",
       "\n",
       "    .dataframe tbody tr th {\n",
       "        vertical-align: top;\n",
       "    }\n",
       "\n",
       "    .dataframe thead th {\n",
       "        text-align: right;\n",
       "    }\n",
       "</style>\n",
       "<table border=\"1\" class=\"dataframe\">\n",
       "  <thead>\n",
       "    <tr style=\"text-align: right;\">\n",
       "      <th></th>\n",
       "      <th>title</th>\n",
       "      <th>text</th>\n",
       "      <th>subject</th>\n",
       "      <th>date</th>\n",
       "      <th>truth</th>\n",
       "      <th>text_length</th>\n",
       "      <th>title_length</th>\n",
       "    </tr>\n",
       "  </thead>\n",
       "  <tbody>\n",
       "    <tr>\n",
       "      <th>0</th>\n",
       "      <td>As U.S. budget fight looms, Republicans flip t...</td>\n",
       "      <td>WASHINGTON (Reuters) - The head of a conservat...</td>\n",
       "      <td>politicsNews</td>\n",
       "      <td>December 31, 2017</td>\n",
       "      <td>1</td>\n",
       "      <td>4659</td>\n",
       "      <td>64</td>\n",
       "    </tr>\n",
       "    <tr>\n",
       "      <th>1</th>\n",
       "      <td>U.S. military to accept transgender recruits o...</td>\n",
       "      <td>WASHINGTON (Reuters) - Transgender people will...</td>\n",
       "      <td>politicsNews</td>\n",
       "      <td>December 29, 2017</td>\n",
       "      <td>1</td>\n",
       "      <td>4077</td>\n",
       "      <td>64</td>\n",
       "    </tr>\n",
       "    <tr>\n",
       "      <th>2</th>\n",
       "      <td>Senior U.S. Republican senator: 'Let Mr. Muell...</td>\n",
       "      <td>WASHINGTON (Reuters) - The special counsel inv...</td>\n",
       "      <td>politicsNews</td>\n",
       "      <td>December 31, 2017</td>\n",
       "      <td>1</td>\n",
       "      <td>2789</td>\n",
       "      <td>60</td>\n",
       "    </tr>\n",
       "    <tr>\n",
       "      <th>3</th>\n",
       "      <td>FBI Russia probe helped by Australian diplomat...</td>\n",
       "      <td>WASHINGTON (Reuters) - Trump campaign adviser ...</td>\n",
       "      <td>politicsNews</td>\n",
       "      <td>December 30, 2017</td>\n",
       "      <td>1</td>\n",
       "      <td>2461</td>\n",
       "      <td>59</td>\n",
       "    </tr>\n",
       "    <tr>\n",
       "      <th>4</th>\n",
       "      <td>Trump wants Postal Service to charge 'much mor...</td>\n",
       "      <td>SEATTLE/WASHINGTON (Reuters) - President Donal...</td>\n",
       "      <td>politicsNews</td>\n",
       "      <td>December 29, 2017</td>\n",
       "      <td>1</td>\n",
       "      <td>5204</td>\n",
       "      <td>69</td>\n",
       "    </tr>\n",
       "  </tbody>\n",
       "</table>\n",
       "</div>"
      ],
      "text/plain": [
       "                                               title  \\\n",
       "0  As U.S. budget fight looms, Republicans flip t...   \n",
       "1  U.S. military to accept transgender recruits o...   \n",
       "2  Senior U.S. Republican senator: 'Let Mr. Muell...   \n",
       "3  FBI Russia probe helped by Australian diplomat...   \n",
       "4  Trump wants Postal Service to charge 'much mor...   \n",
       "\n",
       "                                                text       subject  \\\n",
       "0  WASHINGTON (Reuters) - The head of a conservat...  politicsNews   \n",
       "1  WASHINGTON (Reuters) - Transgender people will...  politicsNews   \n",
       "2  WASHINGTON (Reuters) - The special counsel inv...  politicsNews   \n",
       "3  WASHINGTON (Reuters) - Trump campaign adviser ...  politicsNews   \n",
       "4  SEATTLE/WASHINGTON (Reuters) - President Donal...  politicsNews   \n",
       "\n",
       "                 date  truth  text_length  title_length  \n",
       "0  December 31, 2017       1         4659            64  \n",
       "1  December 29, 2017       1         4077            64  \n",
       "2  December 31, 2017       1         2789            60  \n",
       "3  December 30, 2017       1         2461            59  \n",
       "4  December 29, 2017       1         5204            69  "
      ]
     },
     "execution_count": 30,
     "metadata": {},
     "output_type": "execute_result"
    }
   ],
   "source": [
    "news.head()"
   ]
  },
  {
   "cell_type": "markdown",
   "metadata": {},
   "source": [
    "## Graphing the length of titles for fake and real news."
   ]
  },
  {
   "cell_type": "code",
   "execution_count": 31,
   "metadata": {
    "execution": {
     "iopub.execute_input": "2022-07-01T07:12:06.633219Z",
     "iopub.status.busy": "2022-07-01T07:12:06.632206Z",
     "iopub.status.idle": "2022-07-01T07:12:07.362418Z",
     "shell.execute_reply": "2022-07-01T07:12:07.361500Z",
     "shell.execute_reply.started": "2022-07-01T07:12:06.633159Z"
    }
   },
   "outputs": [
    {
     "data": {
      "text/plain": [
       "<seaborn.axisgrid.FacetGrid at 0x2ad800c4ca0>"
      ]
     },
     "execution_count": 31,
     "metadata": {},
     "output_type": "execute_result"
    },
    {
     "data": {
      "image/png": "[encoded data removed]",
      "text/plain": [
       "<Figure size 432x216 with 2 Axes>"
      ]
     },
     "metadata": {
      "needs_background": "light"
     },
     "output_type": "display_data"
    }
   ],
   "source": [
    "g = sns.FacetGrid(data = news, col = 'truth')\n",
    "g.map(plt.hist, 'title_length', bins = 50)"
   ]
  },
  {
   "cell_type": "markdown",
   "metadata": {},
   "source": [
    "## What percentage of titles are over 200 words?"
   ]
  },
  {
   "cell_type": "code",
   "execution_count": 32,
   "metadata": {
    "execution": {
     "iopub.execute_input": "2022-07-01T07:12:07.659029Z",
     "iopub.status.busy": "2022-07-01T07:12:07.658287Z",
     "iopub.status.idle": "2022-07-01T07:12:07.670447Z",
     "shell.execute_reply": "2022-07-01T07:12:07.669505Z",
     "shell.execute_reply.started": "2022-07-01T07:12:07.658989Z"
    }
   },
   "outputs": [
    {
     "data": {
      "text/plain": [
       "title           0.001644\n",
       "text            0.001644\n",
       "subject         0.001644\n",
       "date            0.001644\n",
       "truth           0.001644\n",
       "text_length     0.001644\n",
       "title_length    0.001644\n",
       "dtype: float64"
      ]
     },
     "execution_count": 32,
     "metadata": {},
     "output_type": "execute_result"
    }
   ],
   "source": [
    "news[news['title_length'] >= 200].count() / news['title_length'].count()"
   ]
  },
  {
   "cell_type": "markdown",
   "metadata": {},
   "source": [
    "Less than 1% of the titles are longer than 200 words, so those can be dropped."
   ]
  },
  {
   "cell_type": "code",
   "execution_count": 33,
   "metadata": {
    "execution": {
     "iopub.execute_input": "2022-07-01T07:12:09.076824Z",
     "iopub.status.busy": "2022-07-01T07:12:09.075985Z",
     "iopub.status.idle": "2022-07-01T07:12:09.095128Z",
     "shell.execute_reply": "2022-07-01T07:12:09.094039Z",
     "shell.execute_reply.started": "2022-07-01T07:12:09.076780Z"
    }
   },
   "outputs": [],
   "source": [
    "news.drop(news[news['title_length'] >= 200].index, inplace = True)"
   ]
  },
  {
   "cell_type": "code",
   "execution_count": 34,
   "metadata": {
    "execution": {
     "iopub.execute_input": "2022-07-01T07:12:09.695713Z",
     "iopub.status.busy": "2022-07-01T07:12:09.695402Z",
     "iopub.status.idle": "2022-07-01T07:12:09.704334Z",
     "shell.execute_reply": "2022-07-01T07:12:09.703720Z",
     "shell.execute_reply.started": "2022-07-01T07:12:09.695677Z"
    }
   },
   "outputs": [
    {
     "data": {
      "text/plain": [
       "title           0.0\n",
       "text            0.0\n",
       "subject         0.0\n",
       "date            0.0\n",
       "truth           0.0\n",
       "text_length     0.0\n",
       "title_length    0.0\n",
       "dtype: float64"
      ]
     },
     "execution_count": 34,
     "metadata": {},
     "output_type": "execute_result"
    }
   ],
   "source": [
    "#news[news['title_length'] >= 200].count() / news['title_length'].count()\n",
    "news[news['title_length'] >= 200].count() / news['title_length'].count()"
   ]
  },
  {
   "cell_type": "markdown",
   "metadata": {},
   "source": [
    "## Creating the X and Y, where X is the text of the news, and y is either fake news (0) or real news (1)."
   ]
  },
  {
   "cell_type": "code",
   "execution_count": 35,
   "metadata": {
    "execution": {
     "iopub.execute_input": "2022-07-01T07:12:10.775787Z",
     "iopub.status.busy": "2022-07-01T07:12:10.775329Z",
     "iopub.status.idle": "2022-07-01T07:12:10.780375Z",
     "shell.execute_reply": "2022-07-01T07:12:10.779442Z",
     "shell.execute_reply.started": "2022-07-01T07:12:10.775741Z"
    }
   },
   "outputs": [],
   "source": [
    "X = news['text']"
   ]
  },
  {
   "cell_type": "code",
   "execution_count": 36,
   "metadata": {
    "execution": {
     "iopub.execute_input": "2022-07-01T07:12:11.278202Z",
     "iopub.status.busy": "2022-07-01T07:12:11.277224Z",
     "iopub.status.idle": "2022-07-01T07:12:11.282768Z",
     "shell.execute_reply": "2022-07-01T07:12:11.282126Z",
     "shell.execute_reply.started": "2022-07-01T07:12:11.278065Z"
    }
   },
   "outputs": [],
   "source": [
    "y = news['truth']"
   ]
  },
  {
   "cell_type": "markdown",
   "metadata": {},
   "source": [
    "## Importing CountVectorizer, fitting_transforming X, and resetting X to the fit_transformed."
   ]
  },
  {
   "cell_type": "code",
   "execution_count": 37,
   "metadata": {
    "execution": {
     "iopub.execute_input": "2022-07-01T07:12:12.336148Z",
     "iopub.status.busy": "2022-07-01T07:12:12.335371Z",
     "iopub.status.idle": "2022-07-01T07:12:12.494416Z",
     "shell.execute_reply": "2022-07-01T07:12:12.493542Z",
     "shell.execute_reply.started": "2022-07-01T07:12:12.336109Z"
    }
   },
   "outputs": [],
   "source": [
    "from sklearn.feature_extraction.text import CountVectorizer"
   ]
  },
  {
   "cell_type": "code",
   "execution_count": 38,
   "metadata": {
    "execution": {
     "iopub.execute_input": "2022-07-01T07:12:12.909790Z",
     "iopub.status.busy": "2022-07-01T07:12:12.909510Z",
     "iopub.status.idle": "2022-07-01T07:12:12.913581Z",
     "shell.execute_reply": "2022-07-01T07:12:12.912728Z",
     "shell.execute_reply.started": "2022-07-01T07:12:12.909761Z"
    }
   },
   "outputs": [],
   "source": [
    "cv = CountVectorizer()"
   ]
  },
  {
   "cell_type": "code",
   "execution_count": 39,
   "metadata": {
    "execution": {
     "iopub.execute_input": "2022-07-01T07:12:13.500862Z",
     "iopub.status.busy": "2022-07-01T07:12:13.500396Z",
     "iopub.status.idle": "2022-07-01T07:12:26.263473Z",
     "shell.execute_reply": "2022-07-01T07:12:26.262817Z",
     "shell.execute_reply.started": "2022-07-01T07:12:13.500815Z"
    }
   },
   "outputs": [],
   "source": [
    "X = cv.fit_transform(X)"
   ]
  },
  {
   "cell_type": "markdown",
   "metadata": {},
   "source": [
    "## Train_test_splitting the data"
   ]
  },
  {
   "cell_type": "code",
   "execution_count": 40,
   "metadata": {
    "execution": {
     "iopub.execute_input": "2022-07-01T07:12:26.265036Z",
     "iopub.status.busy": "2022-07-01T07:12:26.264787Z",
     "iopub.status.idle": "2022-07-01T07:12:26.323831Z",
     "shell.execute_reply": "2022-07-01T07:12:26.322950Z",
     "shell.execute_reply.started": "2022-07-01T07:12:26.265007Z"
    }
   },
   "outputs": [],
   "source": [
    "from sklearn.model_selection import train_test_split"
   ]
  },
  {
   "cell_type": "code",
   "execution_count": 41,
   "metadata": {
    "execution": {
     "iopub.execute_input": "2022-07-01T07:12:26.325347Z",
     "iopub.status.busy": "2022-07-01T07:12:26.325108Z",
     "iopub.status.idle": "2022-07-01T07:12:26.383262Z",
     "shell.execute_reply": "2022-07-01T07:12:26.382417Z",
     "shell.execute_reply.started": "2022-07-01T07:12:26.325315Z"
    }
   },
   "outputs": [],
   "source": [
    "X_train, X_test, y_train, y_test = train_test_split(X, y, test_size=0.3, random_state=101)"
   ]
  },
  {
   "cell_type": "code",
   "execution_count": null,
   "metadata": {},
   "outputs": [],
   "source": []
  },
  {
   "cell_type": "markdown",
   "metadata": {},
   "source": [
    "## Importing Multinomial Naive Bayes, then training the model."
   ]
  },
  {
   "cell_type": "code",
   "execution_count": 42,
   "metadata": {
    "execution": {
     "iopub.execute_input": "2022-07-01T07:12:26.385318Z",
     "iopub.status.busy": "2022-07-01T07:12:26.385008Z",
     "iopub.status.idle": "2022-07-01T07:12:26.391187Z",
     "shell.execute_reply": "2022-07-01T07:12:26.390550Z",
     "shell.execute_reply.started": "2022-07-01T07:12:26.385288Z"
    }
   },
   "outputs": [],
   "source": [
    "from sklearn.naive_bayes import MultinomialNB"
   ]
  },
  {
   "cell_type": "code",
   "execution_count": 43,
   "metadata": {
    "execution": {
     "iopub.execute_input": "2022-07-01T07:12:26.393197Z",
     "iopub.status.busy": "2022-07-01T07:12:26.392437Z",
     "iopub.status.idle": "2022-07-01T07:12:26.404637Z",
     "shell.execute_reply": "2022-07-01T07:12:26.403641Z",
     "shell.execute_reply.started": "2022-07-01T07:12:26.393151Z"
    }
   },
   "outputs": [],
   "source": [
    "nb = MultinomialNB()"
   ]
  },
  {
   "cell_type": "markdown",
   "metadata": {},
   "source": [
    "Fitting the data."
   ]
  },
  {
   "cell_type": "code",
   "execution_count": 44,
   "metadata": {
    "execution": {
     "iopub.execute_input": "2022-07-01T07:12:26.406643Z",
     "iopub.status.busy": "2022-07-01T07:12:26.405867Z",
     "iopub.status.idle": "2022-07-01T07:12:26.474584Z",
     "shell.execute_reply": "2022-07-01T07:12:26.473984Z",
     "shell.execute_reply.started": "2022-07-01T07:12:26.406606Z"
    }
   },
   "outputs": [
    {
     "data": {
      "text/plain": [
       "MultinomialNB()"
      ]
     },
     "execution_count": 44,
     "metadata": {},
     "output_type": "execute_result"
    }
   ],
   "source": [
    "nb.fit(X_train, y_train)"
   ]
  },
  {
   "cell_type": "markdown",
   "metadata": {},
   "source": [
    "## Predicting and checking how well the model performed."
   ]
  },
  {
   "cell_type": "code",
   "execution_count": 45,
   "metadata": {
    "execution": {
     "iopub.execute_input": "2022-07-01T07:12:26.476219Z",
     "iopub.status.busy": "2022-07-01T07:12:26.475789Z",
     "iopub.status.idle": "2022-07-01T07:12:26.509229Z",
     "shell.execute_reply": "2022-07-01T07:12:26.508593Z",
     "shell.execute_reply.started": "2022-07-01T07:12:26.476187Z"
    }
   },
   "outputs": [],
   "source": [
    "predictions = nb.predict(X_test)"
   ]
  },
  {
   "cell_type": "code",
   "execution_count": 46,
   "metadata": {
    "execution": {
     "iopub.execute_input": "2022-07-01T07:12:26.510797Z",
     "iopub.status.busy": "2022-07-01T07:12:26.510392Z",
     "iopub.status.idle": "2022-07-01T07:12:26.514242Z",
     "shell.execute_reply": "2022-07-01T07:12:26.513605Z",
     "shell.execute_reply.started": "2022-07-01T07:12:26.510766Z"
    }
   },
   "outputs": [],
   "source": [
    "from sklearn.metrics import confusion_matrix, classification_report"
   ]
  },
  {
   "cell_type": "code",
   "execution_count": 47,
   "metadata": {
    "execution": {
     "iopub.execute_input": "2022-07-01T07:12:26.515766Z",
     "iopub.status.busy": "2022-07-01T07:12:26.515384Z",
     "iopub.status.idle": "2022-07-01T07:12:26.554761Z",
     "shell.execute_reply": "2022-07-01T07:12:26.554169Z",
     "shell.execute_reply.started": "2022-07-01T07:12:26.515738Z"
    }
   },
   "outputs": [
    {
     "name": "stdout",
     "output_type": "stream",
     "text": [
      "[[6490  381]\n",
      " [ 305 6100]]\n",
      "\n",
      "\n",
      "              precision    recall  f1-score   support\n",
      "\n",
      "           0       0.96      0.94      0.95      6871\n",
      "           1       0.94      0.95      0.95      6405\n",
      "\n",
      "    accuracy                           0.95     13276\n",
      "   macro avg       0.95      0.95      0.95     13276\n",
      "weighted avg       0.95      0.95      0.95     13276\n",
      "\n"
     ]
    }
   ],
   "source": [
    "print(confusion_matrix(y_test,predictions))\n",
    "print('\\n')\n",
    "print(classification_report(y_test,predictions))"
   ]
  },
  {
   "cell_type": "markdown",
   "metadata": {},
   "source": [
    "The accuracy of predicting fake news is around 95%, with 6490 True Positives, 381 False Positives, 305 False Negatives, and 6100 True Negatives. Now, let's re-do this analysis using TfidfTransformer and Pipeline to see how they compare."
   ]
  },
  {
   "cell_type": "code",
   "execution_count": 48,
   "metadata": {
    "execution": {
     "iopub.execute_input": "2022-07-01T07:12:26.556834Z",
     "iopub.status.busy": "2022-07-01T07:12:26.556408Z",
     "iopub.status.idle": "2022-07-01T07:12:26.559924Z",
     "shell.execute_reply": "2022-07-01T07:12:26.559343Z",
     "shell.execute_reply.started": "2022-07-01T07:12:26.556804Z"
    }
   },
   "outputs": [],
   "source": [
    "from sklearn.feature_extraction.text import TfidfTransformer"
   ]
  },
  {
   "cell_type": "code",
   "execution_count": 49,
   "metadata": {
    "execution": {
     "iopub.execute_input": "2022-07-01T07:12:27.208027Z",
     "iopub.status.busy": "2022-07-01T07:12:27.207750Z",
     "iopub.status.idle": "2022-07-01T07:12:27.214666Z",
     "shell.execute_reply": "2022-07-01T07:12:27.214024Z",
     "shell.execute_reply.started": "2022-07-01T07:12:27.207992Z"
    }
   },
   "outputs": [],
   "source": [
    "from sklearn.pipeline import Pipeline"
   ]
  },
  {
   "cell_type": "code",
   "execution_count": 50,
   "metadata": {
    "execution": {
     "iopub.execute_input": "2022-07-01T07:12:27.901944Z",
     "iopub.status.busy": "2022-07-01T07:12:27.901622Z",
     "iopub.status.idle": "2022-07-01T07:12:27.906686Z",
     "shell.execute_reply": "2022-07-01T07:12:27.905908Z",
     "shell.execute_reply.started": "2022-07-01T07:12:27.901910Z"
    }
   },
   "outputs": [],
   "source": [
    "pipeline = Pipeline([\n",
    "    ('bow', CountVectorizer()),\n",
    "    ('tfidf', TfidfTransformer()),\n",
    "    ('classifier', MultinomialNB()),\n",
    "])"
   ]
  },
  {
   "cell_type": "code",
   "execution_count": 51,
   "metadata": {
    "execution": {
     "iopub.execute_input": "2022-07-01T07:12:28.858920Z",
     "iopub.status.busy": "2022-07-01T07:12:28.858619Z",
     "iopub.status.idle": "2022-07-01T07:12:28.873424Z",
     "shell.execute_reply": "2022-07-01T07:12:28.872745Z",
     "shell.execute_reply.started": "2022-07-01T07:12:28.858877Z"
    }
   },
   "outputs": [],
   "source": [
    "X = news['text']\n",
    "y = news['truth']\n",
    "X_train, X_test, y_train, y_test = train_test_split(X, y, test_size=0.3, random_state=101)"
   ]
  },
  {
   "cell_type": "code",
   "execution_count": 52,
   "metadata": {
    "execution": {
     "iopub.execute_input": "2022-07-01T07:12:29.528001Z",
     "iopub.status.busy": "2022-07-01T07:12:29.527236Z",
     "iopub.status.idle": "2022-07-01T07:12:39.453782Z",
     "shell.execute_reply": "2022-07-01T07:12:39.452915Z",
     "shell.execute_reply.started": "2022-07-01T07:12:29.527963Z"
    }
   },
   "outputs": [
    {
     "data": {
      "text/plain": [
       "Pipeline(steps=[('bow', CountVectorizer()), ('tfidf', TfidfTransformer()),\n",
       "                ('classifier', MultinomialNB())])"
      ]
     },
     "execution_count": 52,
     "metadata": {},
     "output_type": "execute_result"
    }
   ],
   "source": [
    "pipeline.fit(X_train,y_train)"
   ]
  },
  {
   "cell_type": "code",
   "execution_count": 53,
   "metadata": {
    "execution": {
     "iopub.execute_input": "2022-07-01T07:12:39.455886Z",
     "iopub.status.busy": "2022-07-01T07:12:39.455491Z",
     "iopub.status.idle": "2022-07-01T07:12:43.299866Z",
     "shell.execute_reply": "2022-07-01T07:12:43.298763Z",
     "shell.execute_reply.started": "2022-07-01T07:12:39.455844Z"
    }
   },
   "outputs": [],
   "source": [
    "predictions = pipeline.predict(X_test)"
   ]
  },
  {
   "cell_type": "code",
   "execution_count": 54,
   "metadata": {
    "execution": {
     "iopub.execute_input": "2022-07-01T07:12:43.301778Z",
     "iopub.status.busy": "2022-07-01T07:12:43.301231Z",
     "iopub.status.idle": "2022-07-01T07:12:43.336184Z",
     "shell.execute_reply": "2022-07-01T07:12:43.335284Z",
     "shell.execute_reply.started": "2022-07-01T07:12:43.301733Z"
    }
   },
   "outputs": [
    {
     "name": "stdout",
     "output_type": "stream",
     "text": [
      "[[6487  384]\n",
      " [ 489 5916]]\n",
      "              precision    recall  f1-score   support\n",
      "\n",
      "           0       0.93      0.94      0.94      6871\n",
      "           1       0.94      0.92      0.93      6405\n",
      "\n",
      "    accuracy                           0.93     13276\n",
      "   macro avg       0.93      0.93      0.93     13276\n",
      "weighted avg       0.93      0.93      0.93     13276\n",
      "\n"
     ]
    }
   ],
   "source": [
    "print(confusion_matrix(y_test, predictions))\n",
    "print(classification_report(y_test,predictions))"
   ]
  },
  {
   "cell_type": "code",
   "execution_count": null,
   "metadata": {},
   "outputs": [],
   "source": []
  }
 ],
 "metadata": {
  "kernelspec": {
   "display_name": "Python 3 (ipykernel)",
   "language": "python",
   "name": "python3"
  },
  "language_info": {
   "codemirror_mode": {
    "name": "ipython",
    "version": 3
   },
   "file_extension": ".py",
   "mimetype": "text/x-python",
   "name": "python",
   "nbconvert_exporter": "python",
   "pygments_lexer": "ipython3",
   "version": "3.8.12"
  }
 },
 "nbformat": 4,
 "nbformat_minor": 4
}
