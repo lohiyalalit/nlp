{
 "cells": [
  {
   "cell_type": "markdown",
   "id": "2973b56b",
   "metadata": {},
   "source": [
    "<h1>Extractive Summarization Techniques</h1>"
   ]
  },
  {
   "cell_type": "code",
   "execution_count": 1,
   "id": "4b573e76",
   "metadata": {},
   "outputs": [
    {
     "data": {
      "text/plain": [
       "'Junk foods taste good thatâ€™s why it is mostly liked by everyone of any age group especially kids and school going children. They generally ask for the junk food daily because they have been trend so by their parents from the childhood. They never have been discussed by their parents about the harmful effects of junk foods over health. According to the research by scientists, it has been found that junk foods have negative effects on the health in many ways. They are generally fried food found in the market in the packets. They become high in calories, high in cholesterol, low in healthy nutrients, high in sodium mineral, high in sugar, starch, unhealthy fat, lack of protein and lack of dietary fibers. Processed and junk foods are the means of rapid and unhealthy weight gain and negatively impact the whole body throughout the life. It makes able a person to gain excessive weight which is called as obesity. Junk foods tastes good and looks good however do not fulfil the healthy calorie requirement of the body. Some of the foods like french fries, fried foods, pizza, burgers, candy, soft drinks, baked goods, ice cream, cookies, etc are the example of high-sugar and high-fat containing foods. It is found according to the Centres for Disease Control and Prevention that Kids and children eating junk food are more prone to the type-2 diabetes. In type-2 diabetes our body become unable to regulate blood sugar level. Risk of getting this disease is increasing as one become more obese or overweight. It increases the risk of kidney failure. Eating junk food daily lead us to the nutritional deficiencies in the body because it is lack of essential nutrients, vitamins, iron, minerals and dietary fibers. It increases risk of cardiovascular diseases because it is rich in saturated fat, sodium and bad cholesterol. High sodium and bad cholesterol diet increases blood pressure and overloads the heart functioning. One who like junk food develop more risk to put on extra weight and become fatter and unhealthier. Junk foods contain high level carbohydrate which spike blood sugar level and make person more lethargic, sleepy and less active and alert. Reflexes and senses of the people eating this food become dull day by day thus they live more sedentary life. Junk foods are the source of constipation and other disease like diabetes, heart ailments, clogged arteries, heart attack, strokes, etc because of being poor in nutrition. Junk food is the easiest way to gain unhealthy weight. The amount of fats and sugar in the food makes you gain weight rapidly. However, this is not a healthy weight. It is more of fats and cholesterol which will have a harmful impact on your health. Junk food is also one of the main reasons for the increase in obesity nowadays.This food only looks and tastes good, other than that, it has no positive points. The amount of calorie your body requires to stay fit is not fulfilled by this food. For instance, foods like French fries, burgers, candy, and cookies, all have high amounts of sugar and fats. Therefore, this can result in long-term illnesses like diabetes and high blood pressure. This may also result in kidney failure. Above all, you can get various nutritional deficiencies when you donâ€™t consume the essential nutrients, vitamins, minerals and more. You become prone to cardiovascular diseases due to the consumption of bad cholesterol and fat plus sodium. In other words, all this interferes with the functioning of your heart. Furthermore, junk food contains a higher level of carbohydrates. It will instantly spike your blood sugar levels. This will result in lethargy, inactiveness, and sleepiness. A person reflex becomes dull overtime and they lead an inactive life. To make things worse, junk food also clogs your arteries and increases the risk of a heart attack. Therefore, it must be avoided at the first instance to save your life from becoming ruined.The main problem with junk food is that people donâ€™t realize its ill effects now. When the time comes, it is too late. Most importantly, the issue is that it does not impact you instantly. It works on your overtime; you will face the consequences sooner or later. Thus, it is better to stop now.You can avoid junk food by encouraging your children from an early age to eat green vegetables. Their taste buds must be developed as such that they find healthy food tasty. Moreover, try to mix things up. Do not serve the same green vegetable daily in the same style. Incorporate different types of healthy food in their diet following different recipes. This will help them to try foods at home rather than being attracted to junk food.In short, do not deprive them completely of it as that will not help. Children will find one way or the other to have it. Make sure you give them junk food in limited quantities and at healthy periods of time.'"
      ]
     },
     "execution_count": 1,
     "metadata": {},
     "output_type": "execute_result"
    }
   ],
   "source": [
    "file1 = open('text_summarizer.txt',\"r+\")\n",
    "a = str(file1.read())\n",
    "a"
   ]
  },
  {
   "cell_type": "markdown",
   "id": "67cdea6d",
   "metadata": {},
   "source": [
    "<h1>Text Summarisation with Gensim (TextRank Algorithm)</h1>"
   ]
  },
  {
   "cell_type": "code",
   "execution_count": 2,
   "id": "28793a99",
   "metadata": {},
   "outputs": [
    {
     "name": "stderr",
     "output_type": "stream",
     "text": [
      "C:\\Users\\lohiy\\anaconda3\\envs\\py38\\lib\\site-packages\\gensim\\utils.py:1197: UserWarning: detected Windows; aliasing chunkize to chunkize_serial\n",
      "  warnings.warn(\"detected Windows; aliasing chunkize to chunkize_serial\")\n"
     ]
    },
    {
     "name": "stdout",
     "output_type": "stream",
     "text": [
      "They become high in calories, high in cholesterol, low in healthy nutrients, high in sodium mineral, high in sugar, starch, unhealthy fat, lack of protein and lack of dietary fibers.\n",
      "Processed and junk foods are the means of rapid and unhealthy weight gain and negatively impact the whole body throughout the life.\n",
      "Junk foods tastes good and looks good however do not fulfil the healthy calorie requirement of the body.\n",
      "It is found according to the Centres for Disease Control and Prevention that Kids and children eating junk food are more prone to the type-2 diabetes.\n",
      "Eating junk food daily lead us to the nutritional deficiencies in the body because it is lack of essential nutrients, vitamins, iron, minerals and dietary fibers.\n",
      "It increases risk of cardiovascular diseases because it is rich in saturated fat, sodium and bad cholesterol.\n",
      "High sodium and bad cholesterol diet increases blood pressure and overloads the heart functioning.\n",
      "One who like junk food develop more risk to put on extra weight and become fatter and unhealthier.\n",
      "Junk foods contain high level carbohydrate which spike blood sugar level and make person more lethargic, sleepy and less active and alert.\n",
      "For instance, foods like French fries, burgers, candy, and cookies, all have high amounts of sugar and fats.\n"
     ]
    }
   ],
   "source": [
    "# Using Text Rank Algorith from gensim, build on top of Pagerank Algorithm.\n",
    "import gensim\n",
    "from gensim.summarization.summarizer import summarize\n",
    "short_summary = summarize(str(a)) \n",
    "print(short_summary)"
   ]
  },
  {
   "cell_type": "code",
   "execution_count": 3,
   "id": "2299032f",
   "metadata": {},
   "outputs": [],
   "source": [
    "#1. `ratio`: It can take values between 0 to 1. It represents the proportion of the summary compared to the original text.\n",
    "#2. `word_count`: It decides the no of words in the summary.'''"
   ]
  },
  {
   "cell_type": "code",
   "execution_count": 4,
   "id": "69588f49",
   "metadata": {},
   "outputs": [
    {
     "data": {
      "text/plain": [
       "'They become high in calories, high in cholesterol, low in healthy nutrients, high in sodium mineral, high in sugar, starch, unhealthy fat, lack of protein and lack of dietary fibers.\\nProcessed and junk foods are the means of rapid and unhealthy weight gain and negatively impact the whole body throughout the life.\\nJunk foods tastes good and looks good however do not fulfil the healthy calorie requirement of the body.\\nSome of the foods like french fries, fried foods, pizza, burgers, candy, soft drinks, baked goods, ice cream, cookies, etc are the example of high-sugar and high-fat containing foods.\\nIt is found according to the Centres for Disease Control and Prevention that Kids and children eating junk food are more prone to the type-2 diabetes.\\nEating junk food daily lead us to the nutritional deficiencies in the body because it is lack of essential nutrients, vitamins, iron, minerals and dietary fibers.\\nIt increases risk of cardiovascular diseases because it is rich in saturated fat, sodium and bad cholesterol.\\nHigh sodium and bad cholesterol diet increases blood pressure and overloads the heart functioning.\\nOne who like junk food develop more risk to put on extra weight and become fatter and unhealthier.\\nJunk foods contain high level carbohydrate which spike blood sugar level and make person more lethargic, sleepy and less active and alert.\\nJunk food is the easiest way to gain unhealthy weight.\\nThe amount of fats and sugar in the food makes you gain weight rapidly.\\nFor instance, foods like French fries, burgers, candy, and cookies, all have high amounts of sugar and fats.\\nTherefore, this can result in long-term illnesses like diabetes and high blood pressure.\\nTo make things worse, junk food also clogs your arteries and increases the risk of a heart attack.'"
      ]
     },
     "execution_count": 4,
     "metadata": {},
     "output_type": "execute_result"
    }
   ],
   "source": [
    "summarize(str(a),ratio=0.3)"
   ]
  },
  {
   "cell_type": "code",
   "execution_count": 5,
   "id": "9984b9f8",
   "metadata": {},
   "outputs": [
    {
     "data": {
      "text/plain": [
       "'They become high in calories, high in cholesterol, low in healthy nutrients, high in sodium mineral, high in sugar, starch, unhealthy fat, lack of protein and lack of dietary fibers.\\nProcessed and junk foods are the means of rapid and unhealthy weight gain and negatively impact the whole body throughout the life.'"
      ]
     },
     "execution_count": 5,
     "metadata": {},
     "output_type": "execute_result"
    }
   ],
   "source": [
    "summarize(str(a),word_count=50)"
   ]
  },
  {
   "cell_type": "markdown",
   "id": "632946d0",
   "metadata": {},
   "source": [
    "# Extractive Text Summarization Techniques With sumy"
   ]
  },
  {
   "cell_type": "code",
   "execution_count": 6,
   "id": "8dbf7a8f",
   "metadata": {},
   "outputs": [],
   "source": [
    "import sumy\n",
    "# Lex Rank Algo --- A sentence which is similar to many other sentences of the text has a high probability of being important.\n",
    "# The approach of LexRank is that a particular sentence is recommended by other similar sentences and hence is ranked higher. Higher the rank, higher is the priority of being included in the summarized text.\n",
    "from sumy.summarizers.lex_rank import LexRankSummarizer \n",
    "summarizer = LexRankSummarizer()"
   ]
  },
  {
   "cell_type": "code",
   "execution_count": 7,
   "id": "99699992",
   "metadata": {},
   "outputs": [],
   "source": [
    "#Plain text parsers since we are parsing through text\n",
    "from sumy.parsers.plaintext import PlaintextParser\n",
    "\n",
    "#for tokenization\n",
    "from sumy.nlp.tokenizers import Tokenizer\n",
    "parser = PlaintextParser.from_file('text_summarizer.txt',Tokenizer('english'))"
   ]
  },
  {
   "cell_type": "code",
   "execution_count": 8,
   "id": "77cea260",
   "metadata": {},
   "outputs": [
    {
     "data": {
      "text/plain": [
       "(<Sentence: Junk foods tastes good and looks good however do not fulfil the healthy calorie requirement of the body.>,\n",
       " <Sentence: It is found according to the Centres for Disease Control and Prevention that Kids and children eating junk food are more prone to the type-2 diabetes.>,\n",
       " <Sentence: It is more of fats and cholesterol which will have a harmful impact on your health.>,\n",
       " <Sentence: To make things worse, junk food also clogs your arteries and increases the risk of a heart attack.>,\n",
       " <Sentence: Children will find one way or the other to have it.>)"
      ]
     },
     "execution_count": 8,
     "metadata": {},
     "output_type": "execute_result"
    }
   ],
   "source": [
    "summarizer(parser.document,sentences_count=5)"
   ]
  },
  {
   "cell_type": "code",
   "execution_count": 9,
   "id": "422dbbb4",
   "metadata": {},
   "outputs": [
    {
     "data": {
      "text/plain": [
       "(<Sentence: They become high in calories, high in cholesterol, low in healthy nutrients, high in sodium mineral, high in sugar, starch, unhealthy fat, lack of protein and lack of dietary fibers.>,\n",
       " <Sentence: It is found according to the Centres for Disease Control and Prevention that Kids and children eating junk food are more prone to the type-2 diabetes.>,\n",
       " <Sentence: Eating junk food daily lead us to the nutritional deficiencies in the body because it is lack of essential nutrients, vitamins, iron, minerals and dietary fibers.>,\n",
       " <Sentence: Junk food is also one of the main reasons for the increase in obesity nowadays.This food only looks and tastes good, other than that, it has no positive points.>,\n",
       " <Sentence: This will help them to try foods at home rather than being attracted to junk food.In short, do not deprive them completely of it as that will not help.>)"
      ]
     },
     "execution_count": 9,
     "metadata": {},
     "output_type": "execute_result"
    }
   ],
   "source": [
    "#Luhn Summarizer --- Luhn Summarization algorithm’s approach is based on TF-IDF (Term Frequency-Inverse Document Frequency).\n",
    "from sumy.summarizers.luhn import LuhnSummarizer\n",
    "summarizer_1 = LuhnSummarizer()\n",
    "summarizer_1(parser.document,sentences_count=5)"
   ]
  },
  {
   "cell_type": "code",
   "execution_count": 10,
   "id": "814971e3",
   "metadata": {},
   "outputs": [
    {
     "data": {
      "text/plain": [
       "(<Sentence: Junk foods taste good that’s why it is mostly liked by everyone of any age group especially kids and school going children.>,\n",
       " <Sentence: They never have been discussed by their parents about the harmful effects of junk foods over health.>,\n",
       " <Sentence: The amount of calorie your body requires to stay fit is not fulfilled by this food.>,\n",
       " <Sentence: To make things worse, junk food also clogs your arteries and increases the risk of a heart attack.>,\n",
       " <Sentence: Therefore, it must be avoided at the first instance to save your life from becoming ruined.The main problem with junk food is that people don’t realize its ill effects now.>)"
      ]
     },
     "execution_count": 10,
     "metadata": {},
     "output_type": "execute_result"
    }
   ],
   "source": [
    "#LSA Summarizer --- Latent Semantic Analysis is a unsupervised learning algorithm that can be used for extractive text summarization.\n",
    "# It extracts semantically significant sentences by applying singular value decomposition(SVD) to the matrix of term-document frequency.\n",
    "from sumy.summarizers.lsa import LsaSummarizer\n",
    "summarizer_2 = LsaSummarizer()\n",
    "summarizer_2(parser.document,sentences_count=5)"
   ]
  },
  {
   "cell_type": "code",
   "execution_count": 11,
   "id": "f9222b00",
   "metadata": {},
   "outputs": [
    {
     "data": {
      "text/plain": [
       "(<Sentence: They become high in calories, high in cholesterol, low in healthy nutrients, high in sodium mineral, high in sugar, starch, unhealthy fat, lack of protein and lack of dietary fibers.>,\n",
       " <Sentence: Processed and junk foods are the means of rapid and unhealthy weight gain and negatively impact the whole body throughout the life.>,\n",
       " <Sentence: It is found according to the Centres for Disease Control and Prevention that Kids and children eating junk food are more prone to the type-2 diabetes.>,\n",
       " <Sentence: Eating junk food daily lead us to the nutritional deficiencies in the body because it is lack of essential nutrients, vitamins, iron, minerals and dietary fibers.>,\n",
       " <Sentence: Junk food is also one of the main reasons for the increase in obesity nowadays.This food only looks and tastes good, other than that, it has no positive points.>)"
      ]
     },
     "execution_count": 11,
     "metadata": {},
     "output_type": "execute_result"
    }
   ],
   "source": [
    "#TextRank from Sumy --- Text rank is a graph-based summarization technique with keyword extractions in from document.\n",
    "from sumy.summarizers.text_rank import TextRankSummarizer\n",
    "summarizer_3 = TextRankSummarizer()\n",
    "summarizer_3(parser.document,sentences_count=5)\n"
   ]
  },
  {
   "cell_type": "code",
   "execution_count": null,
   "id": "cbd774af",
   "metadata": {},
   "outputs": [],
   "source": []
  },
  {
   "cell_type": "code",
   "execution_count": null,
   "id": "0b27a33a",
   "metadata": {},
   "outputs": [],
   "source": []
  }
 ],
 "metadata": {
  "kernelspec": {
   "display_name": "Python 3 (ipykernel)",
   "language": "python",
   "name": "python3"
  },
  "language_info": {
   "codemirror_mode": {
    "name": "ipython",
    "version": 3
   },
   "file_extension": ".py",
   "mimetype": "text/x-python",
   "name": "python",
   "nbconvert_exporter": "python",
   "pygments_lexer": "ipython3",
   "version": "3.8.12"
  }
 },
 "nbformat": 4,
 "nbformat_minor": 5
}
